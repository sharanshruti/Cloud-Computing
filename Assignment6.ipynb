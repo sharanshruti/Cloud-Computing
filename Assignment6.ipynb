{
 "cells": [
  {
   "cell_type": "code",
   "execution_count": 1,
   "id": "7fdb78f5",
   "metadata": {},
   "outputs": [
    {
     "ename": "SyntaxError",
     "evalue": "invalid syntax (352475866.py, line 1)",
     "output_type": "error",
     "traceback": [
      "\u001b[0;36m  Input \u001b[0;32mIn [1]\u001b[0;36m\u001b[0m\n\u001b[0;31m    sudo yum update -y\u001b[0m\n\u001b[0m         ^\u001b[0m\n\u001b[0;31mSyntaxError\u001b[0m\u001b[0;31m:\u001b[0m invalid syntax\n"
     ]
    }
   ],
   "source": [
    "sudo yum update -y\n",
    "sudo yum install docker docker.io -y\n",
    "\n",
    "sudo systemctl status docker\n",
    "sudo systemctl unmask docker\n",
    "sudo systemctl start docker\n",
    "sudo usermod -a -G docker ec2-user\n",
    "\n",
    "#### reconnect ####\n",
    "\n",
    "docker pull python:3.8-slim \n",
    "docker images\n",
    "\n",
    "docker run -d -it --name=pydock python:3.8-slim\n",
    "docker container ls\n",
    "\n",
    "docker exec -it pyContainer /bin/bash\n",
    "\tpython -c \"print('hello world')\"\n",
    "\t# can run any linux command here\n",
    "\n",
    "docker container stop pydock\n",
    "docker container rm pydock\n",
    "\n",
    "\n",
    "\n",
    "\n",
    "\n",
    "\n",
    "mkdir kek\n",
    "pwd\n",
    "\n",
    "docker run -dit --name=pyper -v /home/ec2-user/kek:/mnt python:3.8-slim\n",
    "\n",
    "### add files in kek ###\n",
    "# show files \n",
    "\n",
    "apt update\n",
    "apt install git\n",
    "\n",
    "git clone https://github.com/rituparna-ui/CS351-helper\n",
    "cd CS351-helper\n",
    "ls\n",
    "python main.py\n",
    "\n",
    "\n",
    "\n",
    "\n",
    "####### part 2 #######\n",
    "\n",
    "docker pull node\n",
    "docker run -dit --name=nod -p 3000:3000 node:slim\n",
    "docker exec -it nod /bin/bash\n",
    "apt update\n",
    "apt install git\n",
    "git clone https://github.com/rituparna-ui/blog\n",
    "### cd into folder\n",
    "npm install\n",
    "node index.js\n"
   ]
  },
  {
   "cell_type": "code",
   "execution_count": null,
   "id": "ca7e5cc6",
   "metadata": {},
   "outputs": [],
   "source": []
  }
 ],
 "metadata": {
  "kernelspec": {
   "display_name": "Python 3 (ipykernel)",
   "language": "python",
   "name": "python3"
  },
  "language_info": {
   "codemirror_mode": {
    "name": "ipython",
    "version": 3
   },
   "file_extension": ".py",
   "mimetype": "text/x-python",
   "name": "python",
   "nbconvert_exporter": "python",
   "pygments_lexer": "ipython3",
   "version": "3.9.12"
  }
 },
 "nbformat": 4,
 "nbformat_minor": 5
}
